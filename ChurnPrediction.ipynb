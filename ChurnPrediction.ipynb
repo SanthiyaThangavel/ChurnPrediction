{
  "nbformat": 4,
  "nbformat_minor": 0,
  "metadata": {
    "colab": {
      "provenance": []
    },
    "kernelspec": {
      "name": "python3",
      "display_name": "Python 3"
    },
    "language_info": {
      "name": "python"
    }
  },
  "cells": [
    {
      "cell_type": "code",
      "execution_count": null,
      "metadata": {
        "colab": {
          "base_uri": "https://localhost:8080/"
        },
        "id": "eBWu1v-_mJSY",
        "outputId": "369fa6d3-567b-4c03-ff41-37d63ee24773"
      },
      "outputs": [
        {
          "output_type": "stream",
          "name": "stdout",
          "text": [
            "Enter Credit Score: 456\n",
            "Enter Geography (0 for France, 1 for Germany, 2 for Spain): 2\n",
            "Enter Gender (0 for Female, 1 for Male): 0\n",
            "Enter Age: 34\n",
            "Enter Tenure (years): 37\n",
            "Enter Balance: 55000\n",
            "Enter Number of Products: 12\n",
            "Enter if customer has a credit card (0 for No, 1 for Yes): 1\n",
            "Enter if customer is an active member (0 for No, 1 for Yes): 1\n",
            "Enter Estimated Salary: 80000\n",
            "The customer is predicted to churn.\n"
          ]
        }
      ],
      "source": [
        "import pandas as pd\n",
        "from sklearn.model_selection import train_test_split\n",
        "from sklearn.preprocessing import StandardScaler, LabelEncoder\n",
        "from sklearn.ensemble import RandomForestClassifier\n",
        "import joblib\n",
        "\n",
        "# Load the dataset using the path of the dataset uploaded\n",
        "data = pd.read_csv(\"Churn_Modelling.csv\")\n",
        "\n",
        "# Excluding irrelevant columns from the data\n",
        "data = data.drop(columns=['RowNumber', 'CustomerId', 'Surname'])\n",
        "\n",
        "# Encode categorical variables\n",
        "label_encoder = LabelEncoder()\n",
        "data['Geography'] = label_encoder.fit_transform(data['Geography'])\n",
        "data['Gender'] = label_encoder.fit_transform(data['Gender'])\n",
        "\n",
        "# Split the data into features (X) and target (y)\n",
        "X = data.drop(columns=['Exited'])\n",
        "y = data['Exited']\n",
        "\n",
        "# Split the data into training and testing sets\n",
        "X_train, X_test, y_train, y_test = train_test_split(X, y, test_size=0.2, random_state=42)\n",
        "\n",
        "# Scale the numerical features\n",
        "scaler = StandardScaler()\n",
        "X_train = scaler.fit_transform(X_train)\n",
        "X_test = scaler.transform(X_test)\n",
        "\n",
        "# Train the Random Forest model\n",
        "rf_model = RandomForestClassifier(random_state=42)\n",
        "rf_model.fit(X_train, y_train)\n",
        "\n",
        "# Save the trained model\n",
        "joblib.dump(rf_model, 'rf_model.pkl')\n",
        "\n",
        "# Function to get user input\n",
        "def get_user_input():\n",
        "    credit_score = int(input(\"Enter Credit Score: \"))\n",
        "    geography = int(input(\"Enter Geography (0 for France, 1 for Germany, 2 for Spain): \"))\n",
        "    gender = int(input(\"Enter Gender (0 for Female, 1 for Male): \"))\n",
        "    age = int(input(\"Enter Age: \"))\n",
        "    tenure = int(input(\"Enter Tenure (years): \"))\n",
        "    balance = float(input(\"Enter Balance: \"))\n",
        "    num_of_products = int(input(\"Enter Number of Products: \"))\n",
        "    has_cr_card = int(input(\"Enter if customer has a credit card (0 for No, 1 for Yes): \"))\n",
        "    is_active_member = int(input(\"Enter if customer is an active member (0 for No, 1 for Yes): \"))\n",
        "    estimated_salary = float(input(\"Enter Estimated Salary: \"))\n",
        "\n",
        "    user_data = pd.DataFrame({\n",
        "        'CreditScore': [credit_score],\n",
        "        'Geography': [geography],\n",
        "        'Gender': [gender],\n",
        "        'Age': [age],\n",
        "        'Tenure': [tenure],\n",
        "        'Balance': [balance],\n",
        "        'NumOfProducts': [num_of_products],\n",
        "        'HasCrCard': [has_cr_card],\n",
        "        'IsActiveMember': [is_active_member],\n",
        "        'EstimatedSalary': [estimated_salary]\n",
        "    })\n",
        "\n",
        "    return user_data\n",
        "\n",
        "# Get user input\n",
        "user_data = get_user_input()\n",
        "\n",
        "# Scale the user input\n",
        "user_data_scaled = scaler.transform(user_data)\n",
        "\n",
        "# Load the trained model\n",
        "rf_model = joblib.load('rf_model.pkl')\n",
        "\n",
        "# Predict churn\n",
        "churn_prediction = rf_model.predict(user_data_scaled)\n",
        "\n",
        "if churn_prediction[0] == 1:\n",
        "    print(\"The customer is predicted to churn.\")\n",
        "else:\n",
        "    print(\"The customer is predicted to stay.\")"
      ]
    }
  ]
}